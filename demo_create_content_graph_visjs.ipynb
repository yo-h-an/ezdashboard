{
 "cells": [
  {
   "cell_type": "markdown",
   "metadata": {},
   "source": [
    "## Create graph highcharts 3D\n",
    "+ You need [ezvis3d](https://github.com/oscar6echo/ezvis3d) a Python thin wrapper around [vis.js/Graph3d](http://visjs.org/graph3d_examples.html)\n",
    "+ To install:\n",
    "```\n",
    "pip install ezvis3d\n",
    "```\n",
    "+ Read the [demo_notebook](http://nbviewer.ipython.org/github/oscar6echo/ezvis3d/blob/master/demo_ezvisd3.ipynb) and the [BlackScholes formula viewer](http://nbviewer.ipython.org/github/oscar6echo/ezvis3d/blob/master/BlackScholesViewer.ipynb) to know more."
   ]
  },
  {
   "cell_type": "code",
   "execution_count": null,
   "metadata": {},
   "outputs": [],
   "source": [
    "import os, sys\n",
    "import numpy as np\n",
    "import pandas as pd\n",
    "import random as rd\n",
    "\n",
    "from IPython.display import display\n",
    "from math import sin, cos, pi, sqrt\n",
    "\n",
    "import ezvis3d as v3d"
   ]
  },
  {
   "cell_type": "code",
   "execution_count": null,
   "metadata": {},
   "outputs": [],
   "source": [
    "def z(x, y):\n",
    "    return 50+ sin(x/50) * cos(y/50) * 50\n",
    "\n",
    "x_min = 0\n",
    "x_max = 314\n",
    "x_num = 50\n",
    "\n",
    "x_rng = np.linspace(x_min, x_max, x_num)\n",
    "y_rng = x_rng\n",
    "li_data = [{'x': x, 'y': y, 'z': z(x, y)}\n",
    "            for y in y_rng\n",
    "            for x in x_rng]\n",
    "df_data = pd.DataFrame(li_data)\n",
    "\n",
    "g = v3d.Vis3d()\n",
    "g.width = '600px'\n",
    "g.height = '600px'\n",
    "g.style = 'surface'\n",
    "g.showPerspective = True\n",
    "g.showGrid = True\n",
    "g.showShadow = False\n",
    "g.keepAspectRatio = True\n",
    "g.verticalRatio = 0.7\n",
    "g.cameraPosition = {'horizontal' : 0.9,\n",
    "                    'vertical': 0.4,\n",
    "                    'distance': 1.5\n",
    "                   }\n",
    "\n",
    "g.plot(df_data, save=True)"
   ]
  },
  {
   "cell_type": "code",
   "execution_count": null,
   "metadata": {},
   "outputs": [],
   "source": []
  },
  {
   "cell_type": "code",
   "execution_count": null,
   "metadata": {},
   "outputs": [],
   "source": []
  }
 ],
 "metadata": {
  "kernelspec": {
   "display_name": "Python 3",
   "language": "python",
   "name": "python3"
  },
  "language_info": {
   "codemirror_mode": {
    "name": "ipython",
    "version": 3
   },
   "file_extension": ".py",
   "mimetype": "text/x-python",
   "name": "python",
   "nbconvert_exporter": "python",
   "pygments_lexer": "ipython3",
   "version": "3.7.0"
  }
 },
 "nbformat": 4,
 "nbformat_minor": 2
}
