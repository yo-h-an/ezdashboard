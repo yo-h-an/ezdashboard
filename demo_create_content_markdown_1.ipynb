{
 "cells": [
  {
   "cell_type": "markdown",
   "metadata": {},
   "source": [
    "## Test in a markdown cell\n"
   ]
  },
  {
   "cell_type": "markdown",
   "metadata": {},
   "source": [
    "\n",
    "# Written in Markdown\n",
    "\n",
    "\n",
    "## Latex\n",
    "\n",
    "Courtesy of [MathJax](https://www.mathjax.org/).  \n",
    "You can include mathematical expressions both inline: $ e^{i\\pi} + 1 = 0 $ and displayed as block:\n",
    "\n",
    "$$ e^x=\\sum_{i=0}^\\infty \\frac{x^i}{i!} $$\n",
    "\n",
    "To practise your Latex I recommend the [codecogs latex equation online editor](https://www.codecogs.com/latex/eqneditor.php).  \n",
    "\n",
    "\n",
    "\n",
    "## Colors\n",
    "\n",
    "Sometimes you need to use colors to draw attention.\n",
    "\n",
    "<span style=\"color:blue\">Hey *This is Blue italic.* text</span>\n",
    "\n",
    "<span style=\"color:red\">Hey **This is Red Bold.** text</span>\n",
    "\n",
    "\n",
    "## Lists\n",
    "\n",
    "1. First ordered list item\n",
    "2. Another item\n",
    "    * Unordered sub-list. \n",
    "1. Actual numbers don't matter, just that it's a number\n",
    "    1. Ordered sub-list\n",
    "    1. Ordered sub-list other item\n",
    "4. And another item.\n",
    "\n",
    "    You can have properly indented paragraphs within list items. Notice the blank line above, and the leading spaces (at least one, but we'll use three here to also align the raw Markdown).\n",
    "\n",
    "    To have a line break without a paragraph, you will need to use two trailing spaces.  \n",
    "    Note that this line is separate, but within the same paragraph.  \n",
    "    (This is contrary to the typical GFM line break behaviour, where trailing spaces are not required.)\n",
    "\n",
    "* Unordered list can use asterisks\n",
    "- Or minuses\n",
    "+ Or pluses\n",
    "\n",
    "\n",
    "## Tables\n",
    "\n",
    "Tables aren't part of the core Markdown spec, but they are part of GFM and Markdown Here supports them. They are an easy way of adding tables to your email -- a task that would otherwise require copy-pasting from another application.\n",
    "\n",
    "Colons can be used to align columns.\n",
    "\n",
    "| Tables        | Are           | Cool  |\n",
    "| ------------- |:-------------:| -----:|\n",
    "| col 3 is      | right-aligned | $1600 |\n",
    "| col 2 is      | centered      |   $12 |\n",
    "| zebra stripes | are neat      |    $1 |\n",
    "\n",
    "There must be at least 3 dashes separating each header cell.\n",
    "The outer pipes (|) are optional, and you don't need to make the \n",
    "raw Markdown line up prettily. You can also use inline Markdown.\n",
    "\n",
    "Markdown | Less | Pretty\n",
    "--- | --- | ---\n",
    "*Still* | `renders` | **nicely**\n",
    "1 | 2 | 3\n",
    "\n"
   ]
  },
  {
   "cell_type": "markdown",
   "metadata": {},
   "source": [
    "# Copy/paste in a code cell and save to disk"
   ]
  },
  {
   "cell_type": "code",
   "execution_count": 1,
   "metadata": {
    "collapsed": true
   },
   "outputs": [],
   "source": [
    "import os"
   ]
  },
  {
   "cell_type": "code",
   "execution_count": 2,
   "metadata": {},
   "outputs": [
    {
     "name": "stdout",
     "output_type": "stream",
     "text": [
      "data/markdown_sample_1.md saved to disk\n"
     ]
    }
   ],
   "source": [
    "md = \"\"\"\n",
    "# Written in Markdown\n",
    "\n",
    "## Latex\n",
    "\n",
    "Courtesy of [MathJax](https://www.mathjax.org/).  \n",
    "You can include mathematical expressions both inline: $ e^{i\\pi} + 1 = 0 $ and displayed as block:\n",
    "\n",
    "$$ e^x=\\sum_{i=0}^\\infty \\\\frac{x^i}{i!} $$\n",
    "\n",
    "To practise your Latex I recommend the [codecogs latex equation online editor](https://www.codecogs.com/latex/eqneditor.php).\n",
    "\n",
    "\n",
    "\n",
    "## Colors\n",
    "\n",
    "Sometimes you need to use colors to draw attention.\n",
    "\n",
    "<span style=\"color:blue\">Hey *This is Blue italic.* text</span>\n",
    "\n",
    "<span style=\"color:red\">Hey **This is Red Bold.** text</span>\n",
    "\n",
    "## Lists\n",
    "\n",
    "1. First ordered list item\n",
    "2. Another item\n",
    "    * Unordered sub-list. \n",
    "1. Actual numbers don't matter, just that it's a number\n",
    "    1. Ordered sub-list\n",
    "    1. Ordered sub-list other item\n",
    "4. And another item.\n",
    "\n",
    "    You can have properly indented paragraphs within list items. Notice the blank line above, and the leading spaces (at least one, but we'll use three here to also align the raw Markdown).\n",
    "\n",
    "    To have a line break without a paragraph, you will need to use two trailing spaces.  \n",
    "    Note that this line is separate, but within the same paragraph.  \n",
    "    (This is contrary to the typical GFM line break behaviour, where trailing spaces are not required.)\n",
    "\n",
    "* Unordered list can use asterisks\n",
    "- Or minuses\n",
    "+ Or pluses\n",
    "\n",
    "## Tables\n",
    "\n",
    "Tables aren't part of the core Markdown spec, but they are part of GFM and Markdown Here supports them. They are an easy way of adding tables to your email -- a task that would otherwise require copy-pasting from another application.\n",
    "\n",
    "Colons can be used to align columns.\n",
    "\n",
    "| Tables        | Are           | Cool  |\n",
    "| ------------- |:-------------:| -----:|\n",
    "| col 3 is      | right-aligned | $1600 |\n",
    "| col 2 is      | centered      |   $12 |\n",
    "| zebra stripes | are neat      |    $1 |\n",
    "\n",
    "There must be at least 3 dashes separating each header cell.\n",
    "The outer pipes (|) are optional, and you don't need to make the \n",
    "raw Markdown line up prettily. You can also use inline Markdown.\n",
    "\n",
    "Markdown | Less | Pretty\n",
    "--- | --- | ---\n",
    "*Still* | `renders` | **nicely**\n",
    "1 | 2 | 3\n",
    "\"\"\"\n",
    "\n",
    "path = os.path.join('data', 'markdown_sample_1.md')\n",
    "with open(path, 'w') as f:\n",
    "    f.write(md)\n",
    "    print('{} saved to disk'.format(path))\n"
   ]
  },
  {
   "cell_type": "code",
   "execution_count": null,
   "metadata": {
    "collapsed": true
   },
   "outputs": [],
   "source": []
  }
 ],
 "metadata": {
  "kernelspec": {
   "display_name": "Python 3",
   "language": "python",
   "name": "python3"
  },
  "language_info": {
   "codemirror_mode": {
    "name": "ipython",
    "version": 3
   },
   "file_extension": ".py",
   "mimetype": "text/x-python",
   "name": "python",
   "nbconvert_exporter": "python",
   "pygments_lexer": "ipython3",
   "version": "3.6.3"
  }
 },
 "nbformat": 4,
 "nbformat_minor": 2
}
