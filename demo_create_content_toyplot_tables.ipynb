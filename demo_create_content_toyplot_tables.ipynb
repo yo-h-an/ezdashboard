{
 "cells": [
  {
   "cell_type": "markdown",
   "metadata": {},
   "source": [
    "## Create tables with toyplot\n",
    "+ To install:\n",
    "```\n",
    "pip install toyplot\n",
    "```\n",
    "+ Read the [docs](https://toyplot.readthedocs.io/en/stable/index.html) and particularly about [tables](https://toyplot.readthedocs.io/en/stable/table-coordinates.html)."
   ]
  },
  {
   "cell_type": "code",
   "execution_count": null,
   "metadata": {},
   "outputs": [],
   "source": [
    "import os\n",
    "import numpy as np\n",
    "import pandas as pd\n",
    "import toyplot\n",
    "import toyplot.html\n",
    "\n",
    "from IPython.display import display"
   ]
  },
  {
   "cell_type": "code",
   "execution_count": null,
   "metadata": {},
   "outputs": [],
   "source": [
    "df = pd.read_csv(os.path.join('data', 'temperatures.csv'), parse_dates=['DATE'])\n",
    "df.info()\n",
    "df['DATE'] = df['DATE'].map(lambda x: x.strftime('%Y-%m-%d'))\n",
    "df.head()"
   ]
  },
  {
   "cell_type": "code",
   "execution_count": null,
   "metadata": {},
   "outputs": [],
   "source": [
    "t0 = toyplot.data.Table(df, index=False)\n",
    "t0[:5]"
   ]
  },
  {
   "cell_type": "code",
   "execution_count": null,
   "metadata": {},
   "outputs": [],
   "source": [
    "def create_table(t):\n",
    "    low_index = np.argsort(t[\"TMIN\"])[0]\n",
    "    high_index = np.argsort(t[\"TMAX\"])[-1]\n",
    "\n",
    "    canvas = toyplot.Canvas(width=700, height=400)\n",
    "    table = canvas.table(t,  trows=2, rcolumns=2, label=\"Temperature Readings\")\n",
    "    table.body.column[[0, 1]].width = 150\n",
    "    table.body.column[2].width = 70\n",
    "    table.body.row[low_index].lstyle = {\"font-weight\":\"bold\", \"fill\":\"blue\"}\n",
    "    table.body.row[high_index].lstyle = {\"font-weight\":\"bold\", \"fill\":\"red\"}\n",
    "    r = table.top.right.cell[1, 0:2]\n",
    "    r.data = ['TMIN', 'TMAX']\n",
    "    r.lstyle = {\"font-weight\":\"bold\", \"font-size\":\"12px\"}\n",
    "    merged = table.top.cell[0, 0:2].merge()\n",
    "    merged.data = \"Location\"\n",
    "    merged.align = \"center\"\n",
    "    merged.lstyle = {\"font-size\":\"14px\"}\n",
    "    merged = table.top.cell[0, 3:6].merge()\n",
    "    merged.data = u\"Temperature \\u00b0C\"\n",
    "    merged.lstyle = {\"font-size\":\"14px\"}\n",
    "    table.right.column[0].data = t[\"TMIN\"]\n",
    "    table.right.column[1].data = t[\"TMAX\"]\n",
    "    table.cells.column[3:].format = toyplot.format.FloatFormatter(\"{:.1f}\")\n",
    "    axes = table.right.column[0:2].cartesian()\n",
    "    mark = axes.cell_plot(color=[\"blue\", \"red\"], marker=\"o\", style={\"stroke-width\":1.0})\n",
    "    return canvas\n",
    "        \n",
    "for i in range(6):\n",
    "    t = t0[10*i:10*(i+1)]\n",
    "    canvas = create_table(t)\n",
    "    if i < 5:\n",
    "        path = os.path.join('data', 'toyplot_table_{:d}.html'.format(i))\n",
    "        toyplot.html.render(canvas, path)\n",
    "        print('file {} saved'.format(path))\n"
   ]
  },
  {
   "cell_type": "code",
   "execution_count": null,
   "metadata": {},
   "outputs": [],
   "source": []
  }
 ],
 "metadata": {
  "kernelspec": {
   "display_name": "Python 3",
   "language": "python",
   "name": "python3"
  },
  "language_info": {
   "codemirror_mode": {
    "name": "ipython",
    "version": 3
   },
   "file_extension": ".py",
   "mimetype": "text/x-python",
   "name": "python",
   "nbconvert_exporter": "python",
   "pygments_lexer": "ipython3",
   "version": "3.7.0"
  }
 },
 "nbformat": 4,
 "nbformat_minor": 2
}
