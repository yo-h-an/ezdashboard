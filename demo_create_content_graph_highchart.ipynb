{
 "cells": [
  {
   "cell_type": "markdown",
   "metadata": {},
   "source": [
    "## Create graph highcharts 2D\n",
    "+ You need [ezhc](https://github.com/oscar6echo/ezhc) a Python thin wrapper around [highcharts](https://www.highcharts.com/demo)\n",
    "+ To install:\n",
    "```\n",
    "pip install ezhc\n",
    "```\n",
    "+ Read the [demo_notebook](http://nbviewer.jupyter.org/github/oscar6echo/ezhc/blob/master/demo_ezhc.ipynb) to know more."
   ]
  },
  {
   "cell_type": "code",
   "execution_count": null,
   "metadata": {},
   "outputs": [],
   "source": [
    "import numpy as np\n",
    "import pandas as pd\n",
    "from IPython.display import display\n",
    "\n",
    "import ezhc as hc"
   ]
  },
  {
   "cell_type": "code",
   "execution_count": null,
   "metadata": {},
   "outputs": [],
   "source": [
    "df = hc.sample.df_timeseries(N=3, Nb_bd=2000)\n",
    "df['Cash'] = 1.0+0.02/260\n",
    "df['Cash'] = df['Cash'].cumprod()\n",
    "display(df.head())\n",
    "display(df.tail())"
   ]
  },
  {
   "cell_type": "code",
   "execution_count": null,
   "metadata": {},
   "outputs": [],
   "source": [
    "g = hc.Highstock()\n",
    "\n",
    "g.chart.height = 550\n",
    "g.legend.enabled = True\n",
    "g.legend.layout = 'horizontal'\n",
    "g.legend.align = 'center'\n",
    "g.legend.maxHeight = 100\n",
    "g.tooltip.enabled = True\n",
    "g.tooltip.valueDecimals = 2\n",
    "g.exporting.enabled = True\n",
    "\n",
    "g.chart.zoomType = 'xy'\n",
    "g.title.text = 'Time series plotted with HighStock'\n",
    "g.subtitle.text = 'Transparent access to the underlying js lib'\n",
    "\n",
    "g.plotOptions.series.compare = 'percent'\n",
    "g.yAxis.labels.formatter = hc.scripts.FORMATTER_PERCENT\n",
    "g.tooltip.pointFormat = hc.scripts.TOOLTIP_POINT_FORMAT_PERCENT\n",
    "g.tooltip.positioner = hc.scripts.TOOLTIP_POSITIONER_CENTER_TOP\n",
    "\n",
    "g.xAxis.gridLineWidth = 1.0\n",
    "g.xAxis.gridLineDashStyle = 'Dot'\n",
    "g.yAxis.gridLineWidth = 1.0\n",
    "g.yAxis.gridLineDashStyle = 'Dot'\n",
    "\n",
    "g.credits.enabled = True\n",
    "g.credits.text = 'Source: XXX Flow Strategy & Solutions.'\n",
    "g.credits.href = 'http://www.example.com'\n",
    "\n",
    "\n",
    "g.series = hc.build.series(df)\n",
    "\n",
    "g.plot(dated=False, save=True, save_path='data', save_name='ezhc_graph_1')\n",
    "\n",
    "# this does not work - disorderly code in g.plot_with_table_*() functions - to investigate\n",
    "# g.plot_with_table_1(dated=False, save=True, save_path='data', save_name='ezhc_graph_1')"
   ]
  },
  {
   "cell_type": "code",
   "execution_count": null,
   "metadata": {},
   "outputs": [],
   "source": []
  }
 ],
 "metadata": {
  "kernelspec": {
   "display_name": "TEST",
   "language": "python",
   "name": "test"
  },
  "language_info": {
   "codemirror_mode": {
    "name": "ipython",
    "version": 3
   },
   "file_extension": ".py",
   "mimetype": "text/x-python",
   "name": "python",
   "nbconvert_exporter": "python",
   "pygments_lexer": "ipython3",
   "version": "3.7.0"
  }
 },
 "nbformat": 4,
 "nbformat_minor": 2
}
