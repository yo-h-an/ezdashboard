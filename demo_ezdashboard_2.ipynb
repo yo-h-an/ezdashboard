{
 "cells": [
  {
   "cell_type": "code",
   "execution_count": 1,
   "metadata": {},
   "outputs": [],
   "source": [
    "%load_ext autoreload\n",
    "%autoreload 2\n",
    "\n",
    "import os\n",
    "import json\n",
    "\n",
    "import ezdashboard as ed\n",
    "from ezdashboard.elements import Div, ListDiv, Title, Row, Tab, ListJs, Misc, Header, Dashboard"
   ]
  },
  {
   "cell_type": "markdown",
   "metadata": {},
   "source": [
    "## Example with various content types\n",
    "\n",
    "Please read the notebook [demo_ezdashboard_1](http://nbviewer.jupyter.org/urls/gitlab.com/oscar6echo/ezdashboard/raw/master/demo_ezdashboard_1.ipynb) before to understand how the package works.  \n",
    "Here is an example with several types of content, produced with the following libraries:\n",
    "+ *[ezhc](https://github.com/oscar6echo/ezhc) (thin wrapper around [highcharts](https://www.highcharts.com/demo))* for 2D graphs\n",
    "+ *[ezvis3d](https://github.com/oscar6echo/ezvis3d) (thin wrapper around [visjs/graph3d](http://visjs.org/graph3d_examples.html))* for 3D graphs\n",
    "+ [toyplot/tables](https://toyplot.readthedocs.io/en/stable/table-coordinates.html) for rich formatting of tables, from pandas dataframes\n",
    "+ Jupyter notebook [markdown cells](http://jupyter-notebook.readthedocs.io/en/latest/examples/Notebook/Working%20With%20Markdown%20Cells.html) or \n",
    "+ [ipyaggrid](https://dgothrek.gitlab.io/ipyaggrid/) an ipywidget wrapping [ag-grid](https://www.ag-grid.com/)\n",
    "\n",
    "Each content is produced with a notebook - for reproducibility - and stored on disk:\n",
    "+ [demo_create_content_graph_highchart](http://nbviewer.jupyter.org/urls/gitlab.com/oscar6echo/ezdashboard/raw/master/demo_create_content_graph_highchart.ipynb)\n",
    "+ [demo_create_content_graph_visjs](http://nbviewer.jupyter.org/urls/gitlab.com/oscar6echo/ezdashboard/raw/master/demo_create_content_graph_visjs.ipynb)\n",
    "+ [demo_create_content_markdown](http://nbviewer.jupyter.org/urls/gitlab.com/oscar6echo/ezdashboard/raw/master/demo_create_content_markdown.ipynb)\n",
    "+ [demo_create_content_toyplot_tables](http://nbviewer.jupyter.org/urls/gitlab.com/oscar6echo/ezdashboard/raw/master/demo_create_content_toyplot_tables.ipynb)\n",
    "+ [markdown on line editor](https://jbt.github.io/markdown-editor/) for markdown content - also Jupyter notebook [markdown cells](http://jupyter-notebook.readthedocs.io/en/latest/examples/Notebook/Working%20With%20Markdown%20Cells.html) to some extent"
   ]
  },
  {
   "cell_type": "markdown",
   "metadata": {},
   "source": [
    "## Load content"
   ]
  },
  {
   "cell_type": "code",
   "execution_count": 2,
   "metadata": {},
   "outputs": [
    {
     "name": "stdout",
     "output_type": "stream",
     "text": [
      "ezhc_graph_1.html\n",
      "ezvis3d_graph_1.html\n",
      "markdown_sample_2.md\n",
      "ipyaggrid_grid_div_1.html\n",
      "ipyaggrid_grid_div_2.html\n",
      "ipyaggrid_manager_state_1.json\n",
      "ipyaggrid_manager_state_2.json\n",
      "toyplot_table_0.html\n",
      "toyplot_table_1.html\n",
      "toyplot_table_2.html\n",
      "toyplot_table_3.html\n",
      "toyplot_table_4.html\n"
     ]
    }
   ],
   "source": [
    "dic_content = {}\n",
    "\n",
    "li_data = [('ezhc_graph_1.html', 'ezhc'),\n",
    "           ('ezvis3d_graph_1.html', 'ezvis3d'),\n",
    "           ('markdown_sample_2.md', 'markdown'),\n",
    "           ('ipyaggrid_grid_div_1.html', 'ipyaggrid_div_1'),\n",
    "           ('ipyaggrid_grid_div_2.html', 'ipyaggrid_div_2'),\n",
    "           ('ipyaggrid_manager_state_1.json', 'ipyaggrid_manager_state_1'),\n",
    "           ('ipyaggrid_manager_state_2.json', 'ipyaggrid_manager_state_2'),\n",
    "          ]\n",
    "for i in range(5):\n",
    "    filename = 'toyplot_table_{}.html'.format(i)\n",
    "    name = 'toyplot_table_{}'.format(i)\n",
    "    li_data.append((filename, name))\n",
    "\n",
    "for filename, name in li_data:\n",
    "    print(filename)\n",
    "    with open(os.path.join('data', filename)) as f:\n",
    "        dic_content[name] = f.read()\n",
    "        if filename.endswith('.json'):\n",
    "            dic_content[name] = json.loads(dic_content[name])"
   ]
  },
  {
   "cell_type": "markdown",
   "metadata": {},
   "source": [
    "## Create Div objects"
   ]
  },
  {
   "cell_type": "code",
   "execution_count": 3,
   "metadata": {},
   "outputs": [],
   "source": [
    "div = {}\n",
    "\n",
    "for name, content in dic_content.items():\n",
    "    if 'manager_state' not in name:\n",
    "        data = {\n",
    "            'id_name': name,\n",
    "            'class_name': 'style-'+name,\n",
    "            'content': content,\n",
    "            'width': 12,\n",
    "            'with_borders': False,\n",
    "            'is_markdown': True if name.startswith('markdown') else False\n",
    "        }\n",
    "        div[name] = Div(**data)\n",
    "    \n",
    "div['nothing'] = Div(**{\n",
    "    'id_name': 'nothing',\n",
    "    'class_name': 'style-nothing',\n",
    "    'content': 'There is nothing to be see here.. Move on',\n",
    "    'width': 12,\n",
    "    'with_borders': False,\n",
    "    'is_markdown': False\n",
    "})"
   ]
  },
  {
   "cell_type": "markdown",
   "metadata": {},
   "source": [
    "## Create CSS"
   ]
  },
  {
   "cell_type": "code",
   "execution_count": 4,
   "metadata": {},
   "outputs": [],
   "source": [
    "css = \"\"\"\n",
    "/* IMPORTANT: tile is a KEYWORD */\n",
    "/* It is the class of all display divs in the dashboard tabs */\n",
    ".tile {\n",
    "    // padding: 15px;\n",
    "    // font-size: 1.6rem;\n",
    "}\n",
    ".nav-tab {\n",
    "font-family: 'Source Sans Pro', Arial, sans-serif;\n",
    "color: #333333;\n",
    "}\n",
    ".style-ezhc {\n",
    "background-color: white;\n",
    "}\n",
    ".style-ezvis3d {\n",
    "background-color: white;\n",
    "}\n",
    ".style-markdown {\n",
    "height: 4900px;  /////////////// IMPORTANT\n",
    "background-color: white;\n",
    "}\n",
    ".style-toyplot-table-0 {\n",
    "background-color: white;\n",
    "}\n",
    ".style-toyplot-table-1 {\n",
    "background-color: white;\n",
    "}\n",
    ".style-toyplot-table-2 {\n",
    "background-color: white;\n",
    "}\n",
    ".style-toyplot-table-3 {\n",
    "background-color: white;\n",
    "}\n",
    ".style-toyplot-table-4 {\n",
    "background-color: white;\n",
    "}\n",
    ".style-nothing, .style-ipyaggrid_div_1, .style-ipyaggrid_div_2 {\n",
    "height: 400px;\n",
    "}\n",
    ".wrapper {\n",
    "width: 1000px;\n",
    "margin-top: 15px;\n",
    "}\n",
    "\"\"\""
   ]
  },
  {
   "cell_type": "markdown",
   "metadata": {},
   "source": [
    "## Create Bootstrap Layout"
   ]
  },
  {
   "cell_type": "code",
   "execution_count": 5,
   "metadata": {},
   "outputs": [
    {
     "name": "stdout",
     "output_type": "stream",
     "text": [
      "Tab: isLevel= True\n",
      "Tab: isCandListTab= True\n",
      "Tab: isCandListTitleRow= False\n",
      "Tab: nbActiveTab= 1\n",
      "Tab: isKeyboard= True\n",
      "Tab: isNbActiveTabCorrect= True\n",
      "Tab: isTab= True\n",
      "Tab: isLevel= True\n",
      "Tab: isCandListTab= True\n",
      "Tab: isCandListTitleRow= False\n",
      "Tab: nbActiveTab= 1\n",
      "Tab: isKeyboard= True\n",
      "Tab: isNbActiveTabCorrect= True\n",
      "Tab: isTab= True\n",
      "Dashboard: isTitle= True\n",
      "Dashboard: isTabs= True\n",
      "Dashboard: isJs= True\n",
      "Dashboard: isMisc= True\n",
      "Dashboard: isExactlyOneActiveTab= True\n",
      "Dashboard: isHeader= True\n",
      "Dashboard: isMarkdown= True\n",
      "Dashboard: isWidgets= True\n",
      "Dashboard: isWidgetsState= True\n",
      "Dashboard: isLatex= True\n",
      "Dashboard: isDashboard= True\n"
     ]
    }
   ],
   "source": [
    "li_d1 = ListDiv(**{'elmts': [div['ezhc']]})\n",
    "row1 = Row(**{'elmts': li_d1})\n",
    "title1 = Title(**{'size': 2, 'text': 'A Nice 2D Graph'})\n",
    "tab1 = Tab(**{'name': 'Graph 2D', 'elmts': [title1, row1], 'active': True})\n",
    "\n",
    "li_d2 = ListDiv(**{'elmts': [div['ezvis3d']]})\n",
    "row2 = Row(**{'elmts': li_d2})\n",
    "title2 = Title(**{'size': 2, 'text': 'An Impressive 3D Graph'})\n",
    "tab2 = Tab(**{'name': 'Graph 3D', 'elmts': [title2, row2]})\n",
    "\n",
    "li_d3 = ListDiv(**{'elmts': [div['markdown']]})\n",
    "row3 = Row(**{'elmts': li_d3})\n",
    "title3 = Title(**{'size': 2, 'text': 'Content Written in Markdown'})\n",
    "tab3 = Tab(**{'name': 'Rich Text & More', 'elmts': [title3, row3]})\n",
    "\n",
    "\n",
    "li_d41 = ListDiv(**{'elmts': [div['toyplot_table_0']]})\n",
    "row41 = Row(**{'elmts': li_d41})\n",
    "title41 = Title(**{'size': 2, 'text': 'Table formatted with Toyplot'})\n",
    "tab41 = Tab(**{'name': 'Table 1', 'elmts': [title41, row41], 'level': 2, 'active': True})\n",
    "\n",
    "li_d42 = ListDiv(**{'elmts': [div['toyplot_table_1']]})\n",
    "row42 = Row(**{'elmts': li_d42})\n",
    "title42 = Title(**{'size': 2, 'text': 'Table formatted with Toyplot'})\n",
    "tab42 = Tab(**{'name': 'Table 1', 'elmts': [title42, row42], 'level': 2})\n",
    "\n",
    "li_d43 = ListDiv(**{'elmts': [div['toyplot_table_2']]})\n",
    "row43 = Row(**{'elmts': li_d43})\n",
    "title43 = Title(**{'size': 2, 'text': 'Table formatted with Toyplot'})\n",
    "tab43 = Tab(**{'name': 'Table 1', 'elmts': [title43, row43], 'level': 2})\n",
    "\n",
    "li_d44 = ListDiv(**{'elmts': [div['toyplot_table_3']]})\n",
    "row44 = Row(**{'elmts': li_d44})\n",
    "title44 = Title(**{'size': 2, 'text': 'Table formatted with Toyplot'})\n",
    "tab44 = Tab(**{'name': 'Table 1', 'elmts': [title44, row44], 'level': 2})\n",
    "\n",
    "li_d45 = ListDiv(**{'elmts': [div['toyplot_table_4']]})\n",
    "row45 = Row(**{'elmts': li_d45})\n",
    "title45 = Title(**{'size': 2, 'text': 'Table formatted with Toyplot'})\n",
    "tab45 = Tab(**{'name': 'Table 1', 'elmts': [title45, row45], 'level': 2})\n",
    "\n",
    "tab4 = Tab(**{'name': 'Tables', 'elmts': [tab41, tab42, tab43, tab44]}, verbose=True)\n",
    "\n",
    "li_d5 = ListDiv(**{'elmts': [div['ipyaggrid_div_1']]})\n",
    "row5 = Row(**{'elmts': li_d5})\n",
    "title5 = Title(**{'size': 2, 'text': 'An ipyaggrid'})\n",
    "tab5 = Tab(**{'name': 'Grid 1', 'elmts': [title5, row5], 'keyboard': False})\n",
    "\n",
    "li_d61 = ListDiv(**{'elmts': [div['nothing']]})\n",
    "row61 = Row(**{'elmts': li_d61})\n",
    "title61 = Title(**{'size': 2, 'text': 'To be or not to be'})\n",
    "tab61 = Tab(**{'name': 'Tab 1', 'elmts': [title61, row61], 'level': 2, 'active': True})\n",
    "\n",
    "li_d62 = ListDiv(**{'elmts': [div['ipyaggrid_div_2']]})\n",
    "row62 = Row(**{'elmts': li_d62})\n",
    "title62 = Title(**{'size': 2, 'text': 'Another ipyaggrid'})\n",
    "tab62 = Tab(**{'name': 'Table 1', 'elmts': [title62, row62], 'level': 2, 'keyboard': False})\n",
    "\n",
    "tab6 = Tab(**{'name': 'Grid & co', 'elmts': [tab61, tab62]}, verbose=True)\n",
    "\n",
    "titleD = Title(**{'size': 2, 'text': 'Several Content Types'})\n",
    "\n",
    "manager_state = [dic_content['ipyaggrid_manager_state_1'],\n",
    "                 dic_content['ipyaggrid_manager_state_2']]\n",
    "\n",
    "misc= Misc(**{'main_type': 'container-fluid',\n",
    "              'main_class_name': 'wrapper',\n",
    "              'main_nav_width': '17%',\n",
    "              'main_nav_min_height': '15%',\n",
    "              'main_content_width': '82%',\n",
    "              'no_margins': False,\n",
    "             })\n",
    "\n",
    "header = Header(**{'left_logo': os.path.join('img', 'sg-logo.png'),\n",
    "                   'left_title': 'HF-Hub',\n",
    "                   'right_logo': os.path.join('img', 'jupyter-logo.png'),\n",
    "                   'toggle': True\n",
    "                  })\n",
    "js = ListJs(['https://cdnjs.cloudflare.com/ajax/libs/jquery/2.1.4/jquery.min.js'])\n",
    "\n",
    "dashboard = Dashboard(**{'title': titleD,\n",
    "                         'tabs': [tab1, tab2, tab3, tab4, tab5, tab6],\n",
    "                         'css': css,\n",
    "                         'js': js,\n",
    "                         'misc': misc,\n",
    "                         'header': header,\n",
    "                         'widgets': True,\n",
    "                         'widgets_state': manager_state,\n",
    "                         'markdown': True,\n",
    "                         'latex': True,\n",
    "                        }, verbose=True)"
   ]
  },
  {
   "cell_type": "markdown",
   "metadata": {},
   "source": [
    "## Build Dashboard HTML\n",
    "`build()` has the following arguments:\n",
    "  + `save=True`, optionally `save_name` (default='index.html'), optionally `save_path` (default='saved')\n",
    "  + `save=False` will return the HTML content as a string\n",
    "\n",
    "It will save the dashboard as a file under `save_path` after creating this folder it if necessary.\n"
   ]
  },
  {
   "cell_type": "code",
   "execution_count": 6,
   "metadata": {
    "scrolled": false
   },
   "outputs": [],
   "source": [
    "data = dashboard.to_dict()\n",
    "content = ed.build(data, save=False)"
   ]
  },
  {
   "cell_type": "code",
   "execution_count": 7,
   "metadata": {},
   "outputs": [
    {
     "name": "stdout",
     "output_type": "stream",
     "text": [
      "file sample/index.html created on disk\n",
      "file sample/server.sh created on disk:\n",
      "\tpython -m http.server 8081\n",
      "Run it to launch web server and test dashboard\n"
     ]
    }
   ],
   "source": [
    "ed.build(data, save=True, save_path='sample')"
   ]
  },
  {
   "cell_type": "markdown",
   "metadata": {},
   "source": [
    "### Show content"
   ]
  },
  {
   "cell_type": "code",
   "execution_count": 8,
   "metadata": {
    "scrolled": false
   },
   "outputs": [
    {
     "name": "stdout",
     "output_type": "stream",
     "text": [
      "<!DOCTYPE html> <html lang=\"en\"> <head> <title>Dashboard</title> <meta charset=\"utf-8\"> <meta name=\"viewport\" content=\"width=device-width, initial-scale=1\"> <!-- Libs --> <link rel=\"stylesheet\" href=\"https://maxcdn.bootstrapcdn.com/bootstrap/3.3.7/css/bootstrap.min.css\"> <link rel=\"stylesheet\" href=\"https://maxcdn.bootstrapcdn.com/font-awesome/4.7.0/css/font-awesome.min.css\"> <!-- Fonts --> <link href=\"https://fonts.googleapis.com/css?family=Source+Sans+Pro\" rel=\"stylesheet\"> <!-- Libs --> <script src=\"https://ajax.googleapis.com/ajax/libs/jquery/3.2.0/jquery.min.js\"></script> <script src=\"https://maxcdn.bootstrapcdn.com/bootstrap/3.3.7/js/bootstrap.min.js\"></script> <link rel=\"stylesheet\" href=\"https://cdnjs.cloudflare.com/ajax/libs/github-markdown-css/2.8.0/github-markdown.min.css\"> <!-- Load RequireJS, used by the IPywidgets for dependency management --> <script src=\"https://cdnjs.cloudflare.com/ajax/libs/require.js/2.3.4/require.min.js\" integrity=\"sha256-Ae2Vz/4ePdIu6ZyI/5ZGsYnb+m0\n",
      "\n",
      "...581549 more characters...\n",
      "\n",
      "ht key is pressed'); if (activeTab in activeTabL2) { activeTabL2[activeTab] = modulo(activeTabL2[activeTab] + 1, nbTabL2[activeTab]); var tabName = 'tab' + activeTab + '-' + activeTabL2[activeTab] + 'Link'; } break; } if (tabName) { console.log('tabName clicked = '+tabName); document.getElementById(tabName).click(); } }; $('.theme-toggle').on('click', function() { $('body').toggleClass('dark-theme'); }); </script> <script type=\"text/x-mathjax-config\"> MathJax.Hub.Config( {TeX: { Macros: { sp: \"^\", sb: \"_\" } }, tex2jax: { inlineMath: [ ['$','$'], ['\\\\(','\\\\)'] ], displayMath: [ [\"$$\",\"$$\"], [\"\\\\[\",\"\\\\]\"] ] } }); </script> <script type='text/javascript'> setTimeout(function () { var headID = document.getElementsByTagName('head')[0]; var newScript = document.createElement('script'); newScript.type = 'text/javascript'; newScript.src = 'https://cdnjs.cloudflare.com/ajax/libs/mathjax/2.7.1/MathJax.js?config=TeX-MML-AM_CHTML'; headID.appendChild(newScript); }, 1000); </script> </body> </html>\n"
     ]
    }
   ],
   "source": [
    "minified_content = ed.minify(content)\n",
    "print(minified_content[:1000])\n",
    "print('\\n...{} more characters...\\n'.format(len(minified_content)-2000))\n",
    "print(minified_content[-1000:])"
   ]
  },
  {
   "cell_type": "code",
   "execution_count": 9,
   "metadata": {},
   "outputs": [],
   "source": [
    "# with open(os.path.join('sample', 'index.html'), 'w') as f:\n",
    "#     f.write(minified_content)"
   ]
  }
 ],
 "metadata": {
  "kernelspec": {
   "display_name": "base",
   "language": "python",
   "name": "base"
  },
  "language_info": {
   "codemirror_mode": {
    "name": "ipython",
    "version": 3
   },
   "file_extension": ".py",
   "mimetype": "text/x-python",
   "name": "python",
   "nbconvert_exporter": "python",
   "pygments_lexer": "ipython3",
   "version": "3.6.1"
  }
 },
 "nbformat": 4,
 "nbformat_minor": 2
}
